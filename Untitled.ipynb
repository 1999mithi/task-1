{
 "cells": [
  {
   "cell_type": "code",
   "execution_count": 11,
   "id": "56fb178f-5484-4314-acb8-acf31d49032f",
   "metadata": {},
   "outputs": [
    {
     "name": "stdout",
     "output_type": "stream",
     "text": [
      "updated list: [10, 2, 4, 5, 6]\n"
     ]
    }
   ],
   "source": [
    "my_list = [1,2,3,4,5,]\n",
    "my_list.append(6)\n",
    "my_list.remove(3)\n",
    "my_list[0] = 10\n",
    "print(\"updated list:\" , my_list)\n"
   ]
  },
  {
   "cell_type": "code",
   "execution_count": 14,
   "id": "99349fc5-1463-448d-9dd0-710fd4bcb9d7",
   "metadata": {},
   "outputs": [
    {
     "name": "stdout",
     "output_type": "stream",
     "text": [
      "updated Dictionary: {'anme': 'jhon', 'city': 'mumbai', 'gender': 'male'}\n"
     ]
    }
   ],
   "source": [
    "my_dict = {'anme': 'jhon','age': 25,'city':'delhi'}\n",
    "my_dict['gender'] = 'male'\n",
    "del my_dict['age']\n",
    "my_dict['city'] = 'mumbai'\n",
    "print(\"updated Dictionary:\",my_dict) "
   ]
  },
  {
   "cell_type": "code",
   "execution_count": 15,
   "id": "27d71a71-cfcd-4544-ab7e-298167f9ec8e",
   "metadata": {},
   "outputs": [
    {
     "name": "stdout",
     "output_type": "stream",
     "text": [
      "updated Set: {2, 4, 5, 6, 10}\n"
     ]
    }
   ],
   "source": [
    "my_set = {1,2,3,4,5}\n",
    "my_set.remove(3)\n",
    "my_set.add(6)\n",
    "my_set.discard(1)\n",
    "my_set.add(10)\n",
    "print(\"updated Set:\", my_set)"
   ]
  },
  {
   "cell_type": "code",
   "execution_count": null,
   "id": "f775d6e0-63a9-422c-80fc-8a5a1710d329",
   "metadata": {},
   "outputs": [],
   "source": []
  }
 ],
 "metadata": {
  "kernelspec": {
   "display_name": "Python 3 (ipykernel)",
   "language": "python",
   "name": "python3"
  },
  "language_info": {
   "codemirror_mode": {
    "name": "ipython",
    "version": 3
   },
   "file_extension": ".py",
   "mimetype": "text/x-python",
   "name": "python",
   "nbconvert_exporter": "python",
   "pygments_lexer": "ipython3",
   "version": "3.12.4"
  }
 },
 "nbformat": 4,
 "nbformat_minor": 5
}
